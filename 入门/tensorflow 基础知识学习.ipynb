{
 "cells": [
  {
   "cell_type": "markdown",
   "metadata": {},
   "source": [
    "# 数据集的拆分"
   ]
  },
  {
   "cell_type": "markdown",
   "metadata": {},
   "source": [
    "## k折交叉验证"
   ]
  },
  {
   "cell_type": "markdown",
   "metadata": {},
   "source": [
    "####  （1） 数据集被分成k份（通常取5或10）\n",
    "#### （2） 不重复地每次取其中一份做测试集，用其他k-1份做训练集训练，这样会得到k个评价模型\n",
    "####  （3） 将上述步骤2中得k次评价的性能均值作为最后的评价结"
   ]
  },
  {
   "cell_type": "markdown",
   "metadata": {},
   "source": [
    "## 分层抽样"
   ]
  },
  {
   "cell_type": "markdown",
   "metadata": {},
   "source": [
    "#### 将数据集划分为k粉，特点在于，划分的k份中，每一份内各个类别数据的比例和原    始数据集中各个类别的比例相同。"
   ]
  },
  {
   "cell_type": "markdown",
   "metadata": {
    "collapsed": true
   },
   "source": [
    "# 分类及其性能度量"
   ]
  },
  {
   "cell_type": "markdown",
   "metadata": {},
   "source": [
    "### 准确率\n",
    "#### 分类器正确分类的样本数与总样本数之比"
   ]
  },
  {
   "cell_type": "markdown",
   "metadata": {},
   "source": [
    "### 精确率Precision"
   ]
  },
  {
   "cell_type": "markdown",
   "metadata": {},
   "source": [
    "#### 反映了模型判定的正例中真正正例的比重"
   ]
  },
  {
   "cell_type": "markdown",
   "metadata": {},
   "source": [
    "### 召回率Recall"
   ]
  },
  {
   "cell_type": "markdown",
   "metadata": {},
   "source": [
    "#### 总正例中被模型正确判定正例的比重。医学领域也叫做灵敏度"
   ]
  },
  {
   "cell_type": "markdown",
   "metadata": {},
   "source": [
    "### 命中概率tprate=真正正例占总正例的比率"
   ]
  },
  {
   "cell_type": "markdown",
   "metadata": {},
   "source": [
    "### 误诊率fprate=错误的正例占反例的比率"
   ]
  },
  {
   "cell_type": "markdown",
   "metadata": {},
   "source": [
    "# 分类性能度量——P-R曲线"
   ]
  },
  {
   "cell_type": "markdown",
   "metadata": {},
   "source": [
    "- 要得到P-R曲线，需要一系列Precision和Recall的值。这些系列值是通过阈值来形成的。\n",
    "- 横轴为召回率，纵轴为精确率\n",
    "- 步骤\n",
    "- 1.从高到低将“score”值排序并依次作为阈值\n",
    "- 2.对于每个阈值，“score”值大于或等于这个阈值的测试样本被认为正例，其他为负例，从而形成一组预测数据"
   ]
  },
  {
   "cell_type": "markdown",
   "metadata": {},
   "source": [
    "# 分类性能度量——ROC曲线绘制"
   ]
  },
  {
   "cell_type": "markdown",
   "metadata": {},
   "source": [
    "- 要得到ROC曲线，需要一系列fprate和tprate的值。这些系列值是通过阈值来形成的。\n",
    "- 横轴：假正例率 纵轴：真正例率\n",
    "- 步骤：\n",
    "- 1. 从高到低将“score”值排序并依此作为阈值\n",
    "- 2. 对于每个阈值，“score”值大于或等于这个阈值的测试样本被认为正例，其他为负例"
   ]
  },
  {
   "cell_type": "markdown",
   "metadata": {},
   "source": [
    "# 回归问题及其性能评价"
   ]
  },
  {
   "cell_type": "markdown",
   "metadata": {},
   "source": [
    "## 均方差MSE"
   ]
  },
  {
   "cell_type": "markdown",
   "metadata": {},
   "source": [
    "# 一致性的评价方法"
   ]
  },
  {
   "cell_type": "markdown",
   "metadata": {},
   "source": [
    "### 一致性评价是指两个或多个相关的变量进行分析，从而衡量其相关性的密切程度"
   ]
  },
  {
   "cell_type": "markdown",
   "metadata": {},
   "source": [
    "## Cohen's Kappa计算方法"
   ]
  },
  {
   "cell_type": "markdown",
   "metadata": {},
   "source": [
    "- a为A,B两个评委都说yes，b为A为yse，B为no，c为A为no，B为yes,d为A和B都判断为no\n",
    "- 先计算AB一致性比例为po = (a+d)/(a+b+c+d)\n",
    "- 再计算随机一致性概率pe\n",
    "- 1 A对所有组说yes的概率\n",
    "- 2 B对所有组说yes的概率\n",
    "- 3 AB两人随机都说yes的概率pyes = (a+b)/(a+b+c+d)*(a+c)/(a+b+c+d)\n",
    "- 4 同样，pno = (c+d)/(a+b+c+d)*(b+d)/(a+b+c+d)\n",
    "- 5 pe = pyes + pno\n",
    "- 6 最后k = (po-pe)/(1-pe)"
   ]
  },
  {
   "cell_type": "markdown",
   "metadata": {},
   "source": [
    "#### 取值为1结果完全一致，取值为-1结果完全不一致，结果>=0.8取得比较满意的一致性，如果<=0.4则不满意"
   ]
  },
  {
   "cell_type": "markdown",
   "metadata": {},
   "source": [
    "# 特征值的缩放"
   ]
  },
  {
   "cell_type": "markdown",
   "metadata": {},
   "source": [
    "## 标准化法"
   ]
  },
  {
   "cell_type": "markdown",
   "metadata": {},
   "source": [
    "### 前提特征值服从正太分布"
   ]
  },
  {
   "cell_type": "markdown",
   "metadata": {},
   "source": [
    "#### X_scale = (X(axis=0)-X.mean(axis = 0))/X.std(axis=0)\n",
    "##### axis = 0 表示为每一列"
   ]
  },
  {
   "cell_type": "markdown",
   "metadata": {},
   "source": [
    "- 标准差，又称均方差\n",
    "- 是方差的算术平均根\n",
    "- 标准差能反映一个数据集的离散程度。"
   ]
  },
  {
   "cell_type": "markdown",
   "metadata": {},
   "source": [
    "## 区间缩放法"
   ]
  },
  {
   "cell_type": "markdown",
   "metadata": {},
   "source": [
    "### 区间缩放法利用了边界值信息，将特征的取值区间缩放到某个特定范围。假设max和min为希望的调整后范围"
   ]
  },
  {
   "cell_type": "markdown",
   "metadata": {},
   "source": [
    "#### X_scaled = ((X(axis = 0)-X.min(axis=0)) / (X.max(axis=0)-X.min(axis=0))) * (max-min)+min"
   ]
  },
  {
   "cell_type": "markdown",
   "metadata": {},
   "source": [
    "### 由于希望调整后的范围一般为为[0,1]。此时,公式变为"
   ]
  },
  {
   "cell_type": "markdown",
   "metadata": {},
   "source": [
    "#### X_scaled = (X(axis = 0)-X.min(axis=0)) / (X.max(axis=0)-X.min(axis=0))"
   ]
  },
  {
   "cell_type": "markdown",
   "metadata": {},
   "source": [
    "## 定量特征的二值化"
   ]
  },
  {
   "cell_type": "markdown",
   "metadata": {},
   "source": [
    "#### 方法：设定一个阈值，大于或等于阈值的赋值为1，小于阈值的赋值为0"
   ]
  },
  {
   "cell_type": "markdown",
   "metadata": {},
   "source": [
    "## 缺失特征值的弥补计算"
   ]
  },
  {
   "cell_type": "markdown",
   "metadata": {},
   "source": [
    "### 常见的策略：利用同一特征的均值进行弥补"
   ]
  },
  {
   "cell_type": "markdown",
   "metadata": {},
   "source": [
    "## 创建多项式特征"
   ]
  },
  {
   "cell_type": "markdown",
   "metadata": {},
   "source": [
    "### 如果基于线性特征的模型不够理想。也可以尝试创建多项式特征\n",
    "- 两个特征（x1,x2），它的平方展开项便转换成（1，x1，x2,x1x2,x1x1,x2x2）\n",
    "- 也可以自定义选择只保留特征相乘的多项式项。即转换成（1,x1,x2,x1*x2）\n",
    "- 得到多项式特征后，只是特征空间发生了变化"
   ]
  },
  {
   "cell_type": "markdown",
   "metadata": {},
   "source": [
    "## 特征选择法"
   ]
  },
  {
   "cell_type": "markdown",
   "metadata": {},
   "source": [
    "### 1 方差选择法\n",
    "- 方差非常小的特征维度对于样本的区分作用很小，可以剔除"
   ]
  },
  {
   "cell_type": "markdown",
   "metadata": {},
   "source": [
    "### 2 皮尔森相关系数法\n",
    "#### 显示两个随机变量之间线性关系的强度和方向\n",
    "#### Pearson 相关系数对线性关系比较敏感，如果关系是非线性的，即便两个变量具有一一对应的关系，Pearson相关性也可能会接近0\n",
    "- p(x,y)=cov(X,Y)/x的均方差*y的均方差 = E[(X-x.mean)*(Y-y.mean)]/x的均方差*y的均方差 \n",
    "- E是数学期望cov(x,y)表示x和y的协方差\n",
    "- x为某个特征，y为目标值"
   ]
  },
  {
   "cell_type": "markdown",
   "metadata": {},
   "source": [
    "# 特征降维"
   ]
  },
  {
   "cell_type": "markdown",
   "metadata": {},
   "source": [
    "## 线性判别分析法\n",
    "- 是一种监督学习的降维技术，即数据集的每个样本有类别输出"
   ]
  },
  {
   "cell_type": "markdown",
   "metadata": {},
   "source": [
    "### 基本思想\n",
    "- 即将数据在低维度上进行投影，投影后希望同类数据的投影点尽可能接近，而不同类数据的类别中心之间的距离尽可能的大"
   ]
  },
  {
   "cell_type": "markdown",
   "metadata": {},
   "source": [
    "## 主成分分析法\n",
    "- 无监督的降维方法"
   ]
  },
  {
   "cell_type": "markdown",
   "metadata": {},
   "source": [
    "### 基本思想\n",
    "- 把给定的一组相关特征维度通过线性变换转成另一组不相关的维度，这些新的维度按照方差依次递减的顺序排列:形成第一主成分，第二主成分等等。"
   ]
  }
 ],
 "metadata": {
  "anaconda-cloud": {},
  "kernelspec": {
   "display_name": "env-tensorflow",
   "language": "python",
   "name": "tensorflow"
  },
  "language_info": {
   "codemirror_mode": {
    "name": "ipython",
    "version": 3
   },
   "file_extension": ".py",
   "mimetype": "text/x-python",
   "name": "python",
   "nbconvert_exporter": "python",
   "pygments_lexer": "ipython3",
   "version": "3.7.3"
  }
 },
 "nbformat": 4,
 "nbformat_minor": 1
}
