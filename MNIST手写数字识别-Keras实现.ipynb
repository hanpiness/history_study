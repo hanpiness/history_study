{
 "cells": [
  {
   "cell_type": "code",
   "execution_count": 1,
   "metadata": {
    "collapsed": true
   },
   "outputs": [],
   "source": [
    "import tensorflow as tf\n",
    "import numpy as np\n",
    "import matplotlib.pyplot as plt\n",
    "%matplotlib inline"
   ]
  },
  {
   "cell_type": "markdown",
   "metadata": {},
   "source": [
    "# 数据处理"
   ]
  },
  {
   "cell_type": "markdown",
   "metadata": {},
   "source": [
    "### 导入数据集"
   ]
  },
  {
   "cell_type": "code",
   "execution_count": 2,
   "metadata": {
    "collapsed": true
   },
   "outputs": [],
   "source": [
    "mnist = tf.keras.datasets.mnist\n",
    "(train_images,train_labels),(test_images,test_labels) = mnist.load_data()"
   ]
  },
  {
   "cell_type": "markdown",
   "metadata": {},
   "source": [
    "### 特征数据标准化"
   ]
  },
  {
   "cell_type": "code",
   "execution_count": 3,
   "metadata": {
    "collapsed": true
   },
   "outputs": [],
   "source": [
    "# 对图形images进行数字标准化\n",
    "train_images = train_images /255.0\n",
    "test_images = test_images / 255.0"
   ]
  },
  {
   "cell_type": "markdown",
   "metadata": {},
   "source": [
    "### 标签数据独热编码"
   ]
  },
  {
   "cell_type": "code",
   "execution_count": 4,
   "metadata": {
    "collapsed": true
   },
   "outputs": [],
   "source": [
    "# 对标签labels 进行One-Hot Encoding\n",
    "train_labels_ohe = tf.one_hot(train_labels,depth = 10).numpy()\n",
    "test_labels_ohe = tf.one_hot(test_labels,depth = 10).numpy()"
   ]
  },
  {
   "cell_type": "markdown",
   "metadata": {},
   "source": [
    "# 建立模型"
   ]
  },
  {
   "cell_type": "markdown",
   "metadata": {},
   "source": [
    "### 建立序列模型"
   ]
  },
  {
   "cell_type": "code",
   "execution_count": 5,
   "metadata": {
    "collapsed": true
   },
   "outputs": [],
   "source": [
    "# 建立Sequential线性堆叠模型\n",
    "model = tf.keras.models.Sequential()"
   ]
  },
  {
   "cell_type": "markdown",
   "metadata": {},
   "source": [
    "### 添加输入层(平坦层，Flatten)"
   ]
  },
  {
   "cell_type": "code",
   "execution_count": 6,
   "metadata": {
    "collapsed": true
   },
   "outputs": [],
   "source": [
    "# 添加平坦层\n",
    "model.add(tf.keras.layers.Flatten(input_shape=(28,28)))"
   ]
  },
  {
   "cell_type": "markdown",
   "metadata": {},
   "source": [
    "### 添加隐藏层（密集层，Dense）"
   ]
  },
  {
   "cell_type": "code",
   "execution_count": 7,
   "metadata": {
    "collapsed": true
   },
   "outputs": [],
   "source": [
    "# 添加全连接层1\n",
    "model.add(tf.keras.layers.Dense(units = 64,kernel_initializer='normal',activation='relu'))"
   ]
  },
  {
   "cell_type": "code",
   "execution_count": 8,
   "metadata": {
    "collapsed": true
   },
   "outputs": [],
   "source": [
    "# 添加全连接层2\n",
    "model.add(tf.keras.layers.Dense(units = 32, kernel_initializer='normal'\n",
    "                               ,activation='relu'))"
   ]
  },
  {
   "cell_type": "markdown",
   "metadata": {},
   "source": [
    "# 添加输出层（还是密集层）"
   ]
  },
  {
   "cell_type": "code",
   "execution_count": 9,
   "metadata": {
    "collapsed": true
   },
   "outputs": [],
   "source": [
    "# 添加输出层\n",
    "model.add(tf.keras.layers.Dense(10,activation='softmax'))"
   ]
  },
  {
   "cell_type": "markdown",
   "metadata": {
    "collapsed": true
   },
   "source": [
    "# 模型摘要"
   ]
  },
  {
   "cell_type": "code",
   "execution_count": 10,
   "metadata": {
    "collapsed": false
   },
   "outputs": [
    {
     "name": "stdout",
     "output_type": "stream",
     "text": [
      "Model: \"sequential\"\n",
      "_________________________________________________________________\n",
      "Layer (type)                 Output Shape              Param #   \n",
      "=================================================================\n",
      "flatten (Flatten)            (None, 784)               0         \n",
      "_________________________________________________________________\n",
      "dense (Dense)                (None, 64)                50240     \n",
      "_________________________________________________________________\n",
      "dense_1 (Dense)              (None, 32)                2080      \n",
      "_________________________________________________________________\n",
      "dense_2 (Dense)              (None, 10)                330       \n",
      "=================================================================\n",
      "Total params: 52,650\n",
      "Trainable params: 52,650\n",
      "Non-trainable params: 0\n",
      "_________________________________________________________________\n"
     ]
    }
   ],
   "source": [
    "# 输出模型摘要\n",
    "model.summary()"
   ]
  },
  {
   "cell_type": "markdown",
   "metadata": {},
   "source": [
    "### 以上建模也可以一次性完成"
   ]
  },
  {
   "cell_type": "code",
   "execution_count": 14,
   "metadata": {
    "collapsed": false
   },
   "outputs": [],
   "source": [
    "model = tf.keras.models.Sequential([\n",
    "        tf.keras.layers.Flatten(input_shape=(28,28)),\n",
    "        tf.keras.layers.Dense(64,activation=tf.nn.relu),\n",
    "        tf.keras.layers.Dense(32,activation=tf.nn.relu),\n",
    "        tf.keras.layers.Dense(10,activation=tf.nn.softmax)\n",
    "    ])"
   ]
  },
  {
   "cell_type": "markdown",
   "metadata": {},
   "source": [
    "# 定义训练模式"
   ]
  },
  {
   "cell_type": "markdown",
   "metadata": {},
   "source": [
    "- tf.keras.Model.compile 接受3个重要的参数：optimizer:优化器，可从tf.keras.optimizers中选择\n",
    "- loss ：损失函数，可从tf.keras.losses中选择\n",
    "- metrics: 评估指标，可从tf.keras.metrics"
   ]
  },
  {
   "cell_type": "code",
   "execution_count": 17,
   "metadata": {
    "collapsed": false
   },
   "outputs": [],
   "source": [
    "model.compile(optimizer = 'adam',# 优化器\n",
    "             loss = 'categorical_crossentropy',#损失函数\n",
    "             metrics=['accuracy'])#评估模型的方式"
   ]
  },
  {
   "cell_type": "markdown",
   "metadata": {},
   "source": [
    "# 模型训练"
   ]
  },
  {
   "cell_type": "code",
   "execution_count": 18,
   "metadata": {
    "collapsed": true
   },
   "outputs": [],
   "source": [
    "#设置训练参数\n",
    "train_epochs = 10 #训练轮数\n",
    "batch_size = 30# 单次训练样本数（批次大小）"
   ]
  },
  {
   "cell_type": "markdown",
   "metadata": {},
   "source": [
    "- tf.keras.Model.fit接受5个重要的参数:x:训练数据;y:目标数据（数据标签）;epochs:将训练数据迭代多少遍 batch_size : 批次的大小；validation_data:验证数据，可用于在训练过程中监控模型的性能。verbose: 训练过程的日志信息显示，0为不在标准输出流输出日志信息，1为输出进度条记录，2为每个epoch输出一行记录"
   ]
  },
  {
   "cell_type": "code",
   "execution_count": 20,
   "metadata": {
    "collapsed": false
   },
   "outputs": [
    {
     "name": "stdout",
     "output_type": "stream",
     "text": [
      "Train on 48000 samples, validate on 12000 samples\n",
      "Epoch 1/10\n",
      "48000/48000 - 3s - loss: 0.3266 - accuracy: 0.9062 - val_loss: 0.1727 - val_accuracy: 0.9505\n",
      "Epoch 2/10\n",
      "48000/48000 - 3s - loss: 0.1515 - accuracy: 0.9550 - val_loss: 0.1379 - val_accuracy: 0.9596\n",
      "Epoch 3/10\n",
      "48000/48000 - 3s - loss: 0.1106 - accuracy: 0.9668 - val_loss: 0.1305 - val_accuracy: 0.9617\n",
      "Epoch 4/10\n",
      "48000/48000 - 3s - loss: 0.0873 - accuracy: 0.9733 - val_loss: 0.1190 - val_accuracy: 0.9627\n",
      "Epoch 5/10\n",
      "48000/48000 - 3s - loss: 0.0719 - accuracy: 0.9772 - val_loss: 0.1053 - val_accuracy: 0.9697\n",
      "Epoch 6/10\n",
      "48000/48000 - 3s - loss: 0.0597 - accuracy: 0.9814 - val_loss: 0.1106 - val_accuracy: 0.9688\n",
      "Epoch 7/10\n",
      "48000/48000 - 3s - loss: 0.0494 - accuracy: 0.9844 - val_loss: 0.1116 - val_accuracy: 0.9682\n",
      "Epoch 8/10\n",
      "48000/48000 - 3s - loss: 0.0416 - accuracy: 0.9865 - val_loss: 0.1115 - val_accuracy: 0.9693\n",
      "Epoch 9/10\n",
      "48000/48000 - 3s - loss: 0.0362 - accuracy: 0.9882 - val_loss: 0.1150 - val_accuracy: 0.9705\n",
      "Epoch 10/10\n",
      "48000/48000 - 3s - loss: 0.0326 - accuracy: 0.9896 - val_loss: 0.1317 - val_accuracy: 0.9673\n"
     ]
    }
   ],
   "source": [
    "# 训练模型\n",
    "train_history = model.fit(train_images,train_labels_ohe,\n",
    "                         validation_split=0.2,\n",
    "                         epochs = train_epochs,\n",
    "                         batch_size = batch_size,\n",
    "                         verbose = 2)"
   ]
  },
  {
   "cell_type": "code",
   "execution_count": 21,
   "metadata": {
    "collapsed": false
   },
   "outputs": [
    {
     "data": {
      "text/plain": [
       "{'loss': [0.32655713232292327,\n",
       "  0.15148278195410966,\n",
       "  0.11063669101858978,\n",
       "  0.08732859048152022,\n",
       "  0.07194817718453123,\n",
       "  0.05968849847320598,\n",
       "  0.04943890819944499,\n",
       "  0.041647384443349436,\n",
       "  0.03618164893327048,\n",
       "  0.032590760845259865],\n",
       " 'accuracy': [0.9061875,\n",
       "  0.9549583,\n",
       "  0.9668125,\n",
       "  0.97333336,\n",
       "  0.97725,\n",
       "  0.981375,\n",
       "  0.98441666,\n",
       "  0.98645836,\n",
       "  0.98822916,\n",
       "  0.9895833],\n",
       " 'val_loss': [0.17266335981781594,\n",
       "  0.13792470091022552,\n",
       "  0.1304869010031689,\n",
       "  0.11897741306893295,\n",
       "  0.10525725991057698,\n",
       "  0.1106490295506228,\n",
       "  0.11157914411152887,\n",
       "  0.1114567186271779,\n",
       "  0.11497180551436031,\n",
       "  0.13168570521045694],\n",
       " 'val_accuracy': [0.9505,\n",
       "  0.95958334,\n",
       "  0.96166664,\n",
       "  0.9626667,\n",
       "  0.96966666,\n",
       "  0.96875,\n",
       "  0.96825,\n",
       "  0.96933335,\n",
       "  0.9705,\n",
       "  0.9673333]}"
      ]
     },
     "execution_count": 21,
     "metadata": {},
     "output_type": "execute_result"
    }
   ],
   "source": [
    "train_history.history"
   ]
  },
  {
   "cell_type": "code",
   "execution_count": 22,
   "metadata": {
    "collapsed": true
   },
   "outputs": [],
   "source": [
    "import matplotlib.pylab as plt\n",
    "def show_train_history(train_history,train_metric,val_metric):\n",
    "    plt.plot(train_history.history[train_metric])\n",
    "    plt.plot(train_history.history[val_metric])\n",
    "    plt.title('Train History')\n",
    "    plt.ylabel(train_metric)\n",
    "    plt.xlabel('Epoch')\n",
    "    plt.legend(['train','validation'],loc='upper left')\n",
    "    plt.show()"
   ]
  },
  {
   "cell_type": "code",
   "execution_count": 24,
   "metadata": {
    "collapsed": false
   },
   "outputs": [
    {
     "data": {
      "image/png": "[encoded data removed]",
      "text/plain": [
       "<Figure size 432x288 with 1 Axes>"
      ]
     },
     "metadata": {
      "needs_background": "light"
     },
     "output_type": "display_data"
    },
    {
     "data": {
      "image/png": "[encoded data removed]",
      "text/plain": [
       "<Figure size 432x288 with 1 Axes>"
      ]
     },
     "metadata": {
      "needs_background": "light"
     },
     "output_type": "display_data"
    }
   ],
   "source": [
    "show_train_history(train_history,'loss','val_loss')\n",
    "show_train_history(train_history,'accuracy','val_accuracy')"
   ]
  },
  {
   "cell_type": "markdown",
   "metadata": {},
   "source": [
    "# 评估模型"
   ]
  },
  {
   "cell_type": "code",
   "execution_count": 25,
   "metadata": {
    "collapsed": false
   },
   "outputs": [
    {
     "name": "stdout",
     "output_type": "stream",
     "text": [
      "10000/10000 - 0s - loss: 0.1047 - accuracy: 0.9727\n"
     ]
    }
   ],
   "source": [
    "# 评估模型\n",
    "test_loss,test_acc  = model.evaluate(test_images,test_labels_ohe,verbose = 2)\n"
   ]
  },
  {
   "cell_type": "code",
   "execution_count": 27,
   "metadata": {
    "collapsed": false
   },
   "outputs": [
    {
     "name": "stdout",
     "output_type": "stream",
     "text": [
      "10000/10000 - 0s - loss: 0.1047 - accuracy: 0.9727\n"
     ]
    }
   ],
   "source": [
    "yy = model.evaluate(test_images,test_labels_ohe,verbose = 2)"
   ]
  },
  {
   "cell_type": "code",
   "execution_count": 28,
   "metadata": {
    "collapsed": false
   },
   "outputs": [
    {
     "data": {
      "text/plain": [
       "[0.10470553053968179, 0.9727]"
      ]
     },
     "execution_count": 28,
     "metadata": {},
     "output_type": "execute_result"
    }
   ],
   "source": [
    "yy"
   ]
  },
  {
   "cell_type": "code",
   "execution_count": 29,
   "metadata": {
    "collapsed": false
   },
   "outputs": [
    {
     "data": {
      "text/plain": [
       "['loss', 'accuracy']"
      ]
     },
     "execution_count": 29,
     "metadata": {},
     "output_type": "execute_result"
    }
   ],
   "source": [
    "model.metrics_names"
   ]
  },
  {
   "cell_type": "markdown",
   "metadata": {},
   "source": [
    "# 应用模型"
   ]
  },
  {
   "cell_type": "code",
   "execution_count": 30,
   "metadata": {
    "collapsed": true
   },
   "outputs": [],
   "source": [
    "# 进行预测\n",
    "test_pred = model.predict(test_images)"
   ]
  },
  {
   "cell_type": "code",
   "execution_count": 31,
   "metadata": {
    "collapsed": false
   },
   "outputs": [
    {
     "data": {
      "text/plain": [
       "(10000, 10)"
      ]
     },
     "execution_count": 31,
     "metadata": {},
     "output_type": "execute_result"
    }
   ],
   "source": [
    "test_pred.shape"
   ]
  },
  {
   "cell_type": "code",
   "execution_count": 32,
   "metadata": {
    "collapsed": false
   },
   "outputs": [
    {
     "data": {
      "text/plain": [
       "7"
      ]
     },
     "execution_count": 32,
     "metadata": {},
     "output_type": "execute_result"
    }
   ],
   "source": [
    "#预测值\n",
    "np.argmax(test_pred[0])"
   ]
  },
  {
   "cell_type": "code",
   "execution_count": 33,
   "metadata": {
    "collapsed": true
   },
   "outputs": [],
   "source": [
    "# 直接进行分类预测\n",
    "test_pred = model.predict_classes(test_images)"
   ]
  },
  {
   "cell_type": "code",
   "execution_count": 34,
   "metadata": {
    "collapsed": false
   },
   "outputs": [
    {
     "data": {
      "text/plain": [
       "7"
      ]
     },
     "execution_count": 34,
     "metadata": {},
     "output_type": "execute_result"
    }
   ],
   "source": [
    "test_pred[0]"
   ]
  },
  {
   "cell_type": "code",
   "execution_count": 35,
   "metadata": {
    "collapsed": false
   },
   "outputs": [
    {
     "data": {
      "text/plain": [
       "7"
      ]
     },
     "execution_count": 35,
     "metadata": {},
     "output_type": "execute_result"
    }
   ],
   "source": [
    "#标签值\n",
    "test_labels[0]"
   ]
  }
 ],
 "metadata": {
  "anaconda-cloud": {},
  "kernelspec": {
   "display_name": "env-tensorflow",
   "language": "python",
   "name": "tensorflow"
  },
  "language_info": {
   "codemirror_mode": {
    "name": "ipython",
    "version": 3
   },
   "file_extension": ".py",
   "mimetype": "text/x-python",
   "name": "python",
   "nbconvert_exporter": "python",
   "pygments_lexer": "ipython3",
   "version": "3.7.3"
  }
 },
 "nbformat": 4,
 "nbformat_minor": 1
}
