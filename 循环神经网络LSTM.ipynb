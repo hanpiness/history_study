{
 "cells": [
  {
   "cell_type": "markdown",
   "metadata": {},
   "source": [
    "多层全连接的神经网络或者卷积神经网络都只能根据当前的状态进行处理，不能很好的处理时序问题"
   ]
  },
  {
   "cell_type": "markdown",
   "metadata": {},
   "source": [
    "RNN循环神经网络\n",
    "梯度爆炸可以靠裁剪后的优化算法即可解决，比如gradient clipping（如果梯度的范数大于某个给定值，将梯度同比收缩）\n",
    "通过LSTM（长短时记忆网络）改进RNN结构可以消除梯度消失"
   ]
  },
  {
   "cell_type": "markdown",
   "metadata": {},
   "source": [
    "- 普通的RNN基本结构\n",
    "- 传统RNN每一步的隐藏单元只是执行一个简单的tanh或ReLU操作"
   ]
  },
  {
   "cell_type": "markdown",
   "metadata": {},
   "source": [
    "- LSTM主要对隐含层进行了改进\n",
    "- 在LSMT中，每个神经元相当于一个记忆细胞\n",
    "- LSMT的关键是细胞的状态，细胞的状态类似于传送带，直接在整个链路上运行，只有一些少量的线性交互"
   ]
  },
  {
   "cell_type": "markdown",
   "metadata": {},
   "source": [
    "- 门\n",
    "- LSTM有通过精心设计的称作“门”的结构来去除或者增加信息到细胞状态的能力门是一种让信息选择式通过的方法。包含一个Sigmoid神经网络层和一个点乘操作。\n",
    "- Sigmoid层输出0到1之间的数值，描述每个部分有多少量可以通过。\n",
    "- 0代表“不许任何量通过”\n",
    "- 1代表“允许任何量通过”\n",
    "- LSTM拥有三个门，来保护和控制细胞状态\n",
    "- 遗忘门：决定丢弃上一步的哪些信息\n",
    "- 输入门：决定加入哪些新的信息\n",
    "- 形成新的细胞状态\n",
    "- 1. 旧的细胞状态Ct-1与ft相乘丢弃一部分信息\n",
    "  2. 再加上it*Ct~(i是input输入门)，生成新的细胞状态Ct\n",
    "- 输出门：决定输出哪些信息\n",
    "- 把Ct输给tanh函数，得到一个候选的输出值\n",
    "- 运行一个sigmoid层来确定细胞状态的哪个部分将输出出去"
   ]
  },
  {
   "cell_type": "markdown",
   "metadata": {},
   "source": [
    "# 下载数据集"
   ]
  },
  {
   "cell_type": "code",
   "execution_count": 12,
   "metadata": {
    "collapsed": true
   },
   "outputs": [],
   "source": [
    "# 导入需要用到的库\n",
    "import os\n",
    "from tensorflow import keras\n",
    "import tarfile\n",
    "import urllib.request\n",
    "import tensorflow as tf\n",
    "import numpy as np\n",
    "import re\n",
    "import string\n",
    "from random import randint"
   ]
  },
  {
   "cell_type": "code",
   "execution_count": 4,
   "metadata": {
    "collapsed": true
   },
   "outputs": [],
   "source": [
    "# 将文本中不需要的字符清除，如html标签<br/>\n",
    "def remove_tags(text):\n",
    "    re_tag = re.compile(r\"<[^>]+>\")\n",
    "    return re_tag.sub(\"\",text)"
   ]
  },
  {
   "cell_type": "code",
   "execution_count": 5,
   "metadata": {
    "collapsed": true
   },
   "outputs": [],
   "source": [
    "# 读取文件,参数filetype取值为train或者test\n",
    "def read_files(filetype):\n",
    "    path = \"data/aclImdb/\"\n",
    "    file_list = []\n",
    "    \n",
    "    # 读取正面评价的文件的路径，存到file_list列表例\n",
    "    positive_path = path + filetype+\"/pos/\"\n",
    "    for f in os.listdir(positive_path):\n",
    "        file_list+=[positive_path+f]\n",
    "    pos_files_num = len(file_list)\n",
    "    \n",
    "    # 读取负面评价的文件的路径，存到file_list列表例\n",
    "    negative_path = path + filetype+\"/neg/\"\n",
    "    for f in os.listdir(negative_path):\n",
    "        file_list+=[negative_path+f]\n",
    "    neg_files_num = len(file_list) - pos_files_num\n",
    "    \n",
    "    print('read',filetype,\"files:\",len(file_list))\n",
    "    print(pos_files_num,\"pos files in\",filetype,\"files\")\n",
    "    print(neg_files_num,\"neg files in\",filetype,'files')\n",
    "    # 得到所有的标签。标签用one-hot编码表示，正面评价标签为[1,0],负面评价标签为[0,1]\n",
    "    all_labels = ([[1,0]] * pos_files_num + [[0,1]] * neg_files_num)\n",
    "    \n",
    "    # 得到所有文本\n",
    "    all_texts = []\n",
    "    for fi in file_list:\n",
    "        with open(fi,encoding='utf8') as file_input:\n",
    "            # 文本中有<br/>这类html标签，将文本传入remove_tags函数\n",
    "            # 函数里使用正则表达式可以将这样的标签清除掉\n",
    "            all_texts += [remove_tags(\" \".join(file_input.readlines()))]\n",
    "        \n",
    "    return all_labels,all_texts"
   ]
  },
  {
   "cell_type": "code",
   "execution_count": 6,
   "metadata": {
    "collapsed": false
   },
   "outputs": [
    {
     "name": "stdout",
     "output_type": "stream",
     "text": [
      "read train files: 25000\n",
      "12500 pos files in train files\n",
      "12500 neg files in train files\n",
      "read test files: 25000\n",
      "12500 pos files in test files\n",
      "12500 neg files in test files\n"
     ]
    }
   ],
   "source": [
    "# 得到训练与测试用的标签与文本\n",
    "train_labels,train_texts = read_files(\"train\")\n",
    "test_labels,test_texts = read_files(\"test\")"
   ]
  },
  {
   "cell_type": "code",
   "execution_count": 7,
   "metadata": {
    "collapsed": true
   },
   "outputs": [],
   "source": [
    "#建立Token\n",
    "token = tf.keras.preprocessing.text.Tokenizer(num_words=4000)\n",
    "token.fit_on_texts(train_texts)   # 提取最常用的词"
   ]
  },
  {
   "cell_type": "code",
   "execution_count": 8,
   "metadata": {
    "collapsed": true
   },
   "outputs": [],
   "source": [
    "train_sequences = token.texts_to_sequences(train_texts)\n",
    "test_sequences = token.texts_to_sequences(test_texts)"
   ]
  },
  {
   "cell_type": "code",
   "execution_count": 9,
   "metadata": {
    "collapsed": true
   },
   "outputs": [],
   "source": [
    "x_train = tf.keras.preprocessing.sequence.pad_sequences(train_sequences,\n",
    "                                          padding='post',\n",
    "                                         truncating='post',\n",
    "                                          maxlen=400)\n",
    "x_test = tf.keras.preprocessing.sequence.pad_sequences(test_sequences,\n",
    "                                         padding='post',\n",
    "                                         truncating='post',\n",
    "                                         maxlen=400)"
   ]
  },
  {
   "cell_type": "code",
   "execution_count": 10,
   "metadata": {
    "collapsed": true
   },
   "outputs": [],
   "source": [
    "y_train = np.array(train_labels)\n",
    "y_test = np.array(test_labels)"
   ]
  },
  {
   "cell_type": "code",
   "execution_count": 21,
   "metadata": {
    "collapsed": false
   },
   "outputs": [],
   "source": [
    "model = keras.models.Sequential() #建立序列化的模型\n",
    "model.add(keras.layers.Embedding(output_dim=32,\n",
    "                                input_dim=4000,\n",
    "                                input_length=400))\n",
    "# 将列表转换为矩阵"
   ]
  },
  {
   "cell_type": "code",
   "execution_count": 22,
   "metadata": {
    "collapsed": true
   },
   "outputs": [],
   "source": [
    "# 用RNN，不用把词嵌入层平坦化\n",
    "model.add(keras.layers.Bidirectional(keras.layers.LSTM(units=8)))"
   ]
  },
  {
   "cell_type": "code",
   "execution_count": 23,
   "metadata": {
    "collapsed": true
   },
   "outputs": [],
   "source": [
    "model.add(keras.layers.Dense(units=32,activation='relu'))"
   ]
  },
  {
   "cell_type": "code",
   "execution_count": 24,
   "metadata": {
    "collapsed": true
   },
   "outputs": [],
   "source": [
    "model.add(keras.layers.Dropout(0.3))"
   ]
  },
  {
   "cell_type": "code",
   "execution_count": 25,
   "metadata": {
    "collapsed": true
   },
   "outputs": [],
   "source": [
    "model.add(keras.layers.Dense(units=2,activation='softmax'))"
   ]
  },
  {
   "cell_type": "code",
   "execution_count": 26,
   "metadata": {
    "collapsed": false
   },
   "outputs": [
    {
     "name": "stdout",
     "output_type": "stream",
     "text": [
      "Model: \"sequential_1\"\n",
      "_________________________________________________________________\n",
      "Layer (type)                 Output Shape              Param #   \n",
      "=================================================================\n",
      "embedding_1 (Embedding)      (None, 400, 32)           128000    \n",
      "_________________________________________________________________\n",
      "bidirectional_1 (Bidirection (None, 16)                2624      \n",
      "_________________________________________________________________\n",
      "dense_3 (Dense)              (None, 32)                544       \n",
      "_________________________________________________________________\n",
      "dropout_1 (Dropout)          (None, 32)                0         \n",
      "_________________________________________________________________\n",
      "dense_4 (Dense)              (None, 2)                 66        \n",
      "=================================================================\n",
      "Total params: 131,234\n",
      "Trainable params: 131,234\n",
      "Non-trainable params: 0\n",
      "_________________________________________________________________\n"
     ]
    }
   ],
   "source": [
    "model.summary()"
   ]
  },
  {
   "cell_type": "code",
   "execution_count": 27,
   "metadata": {
    "collapsed": true
   },
   "outputs": [],
   "source": [
    "model.compile(optimizer='adam',    #优化器\n",
    "             loss = 'categorical_crossentropy',# 交叉熵\n",
    "             metrics=['accuracy'])# 查看的度量，准确率"
   ]
  },
  {
   "cell_type": "code",
   "execution_count": 28,
   "metadata": {
    "collapsed": false
   },
   "outputs": [
    {
     "name": "stdout",
     "output_type": "stream",
     "text": [
      "Train on 20000 samples, validate on 5000 samples\n",
      "Epoch 1/10\n",
      "20000/20000 [==============================] - 28s 1ms/sample - loss: 0.6111 - accuracy: 0.6636 - val_loss: 0.8057 - val_accuracy: 0.6364\n",
      "Epoch 2/10\n",
      "20000/20000 [==============================] - 22s 1ms/sample - loss: 0.4017 - accuracy: 0.8352 - val_loss: 0.5030 - val_accuracy: 0.8252\n",
      "Epoch 3/10\n",
      "20000/20000 [==============================] - 22s 1ms/sample - loss: 0.3212 - accuracy: 0.8781 - val_loss: 0.5374 - val_accuracy: 0.7952\n",
      "Epoch 4/10\n",
      "20000/20000 [==============================] - 21s 1ms/sample - loss: 0.2689 - accuracy: 0.9032 - val_loss: 0.4646 - val_accuracy: 0.8252\n",
      "Epoch 5/10\n",
      "20000/20000 [==============================] - 21s 1ms/sample - loss: 0.2235 - accuracy: 0.9240 - val_loss: 0.3951 - val_accuracy: 0.8530\n",
      "Epoch 6/10\n",
      "20000/20000 [==============================] - 21s 1ms/sample - loss: 0.2002 - accuracy: 0.9335 - val_loss: 0.5155 - val_accuracy: 0.8410\n",
      "Epoch 7/10\n",
      "20000/20000 [==============================] - 21s 1ms/sample - loss: 0.1791 - accuracy: 0.9405 - val_loss: 0.5896 - val_accuracy: 0.7894\n",
      "Epoch 8/10\n",
      "20000/20000 [==============================] - 22s 1ms/sample - loss: 0.1672 - accuracy: 0.9446 - val_loss: 0.5144 - val_accuracy: 0.8164\n",
      "Epoch 9/10\n",
      "20000/20000 [==============================] - 21s 1ms/sample - loss: 0.1567 - accuracy: 0.9485 - val_loss: 0.5596 - val_accuracy: 0.7932\n",
      "Epoch 10/10\n",
      "20000/20000 [==============================] - 22s 1ms/sample - loss: 0.1438 - accuracy: 0.9542 - val_loss: 0.5207 - val_accuracy: 0.8414\n"
     ]
    }
   ],
   "source": [
    "history = model.fit(x_train,y_train,\n",
    "                   validation_split = 0.2,\n",
    "                   epochs=10,\n",
    "                   batch_size=128,\n",
    "                   verbose=1)"
   ]
  },
  {
   "cell_type": "code",
   "execution_count": 29,
   "metadata": {
    "collapsed": false
   },
   "outputs": [
    {
     "data": {
      "image/png": "[encoded data removed]",
      "text/plain": [
       "<Figure size 432x288 with 1 Axes>"
      ]
     },
     "metadata": {
      "needs_background": "light"
     },
     "output_type": "display_data"
    },
    {
     "data": {
      "image/png": "[encoded data removed]",
      "text/plain": [
       "<Figure size 432x288 with 1 Axes>"
      ]
     },
     "metadata": {
      "needs_background": "light"
     },
     "output_type": "display_data"
    }
   ],
   "source": [
    "import matplotlib.pyplot as plt\n",
    "\n",
    "acc = history.history['accuracy']\n",
    "val_acc = history.history[\"val_accuracy\"]\n",
    "loss = history.history[\"loss\"]\n",
    "val_loss = history.history[\"val_loss\"]\n",
    "\n",
    "epochs = range(1,len(acc)+1)\n",
    "\n",
    "plt.plot(epochs,loss,'r',label=\"Training loss\")\n",
    "plt.plot(epochs,val_loss,'b',label=\"Validation loss\")\n",
    "plt.title(\"Training and validation loss\")\n",
    "plt.xlabel(\"Epochs\")\n",
    "plt.ylabel(\"Loss\")\n",
    "plt.legend()\n",
    "plt.show()\n",
    "\n",
    "plt.clf()     # clear figure\n",
    "acc_values = history.history['accuracy']\n",
    "val_acc_values = history.history[\"val_accuracy\"]\n",
    "\n",
    "plt.plot(epochs,acc,'r',label = 'Training acc')\n",
    "plt.plot(epochs,val_acc,'b',label=\"Validation acc\")\n",
    "plt.xlabel(\"Epochs\")\n",
    "plt.ylabel(\"Accuracy\")\n",
    "plt.legend()\n",
    "plt.show()"
   ]
  },
  {
   "cell_type": "code",
   "execution_count": 30,
   "metadata": {
    "collapsed": false
   },
   "outputs": [
    {
     "name": "stdout",
     "output_type": "stream",
     "text": [
      "25000/25000 [==============================] - 15s 584us/sample - loss: 0.4639 - accuracy: 0.8514\n",
      "Test accuracy: 0.8514\n"
     ]
    }
   ],
   "source": [
    "test_loss,test_acc = model.evaluate(x_test,y_test,verbose=1)\n",
    "\n",
    "print(\"Test accuracy:\",test_acc)"
   ]
  },
  {
   "cell_type": "code",
   "execution_count": null,
   "metadata": {
    "collapsed": true
   },
   "outputs": [],
   "source": []
  }
 ],
 "metadata": {
  "anaconda-cloud": {},
  "kernelspec": {
   "display_name": "env-tensorflow",
   "language": "python",
   "name": "tensorflow"
  },
  "language_info": {
   "codemirror_mode": {
    "name": "ipython",
    "version": 3
   },
   "file_extension": ".py",
   "mimetype": "text/x-python",
   "name": "python",
   "nbconvert_exporter": "python",
   "pygments_lexer": "ipython3",
   "version": "3.7.3"
  }
 },
 "nbformat": 4,
 "nbformat_minor": 1
}
