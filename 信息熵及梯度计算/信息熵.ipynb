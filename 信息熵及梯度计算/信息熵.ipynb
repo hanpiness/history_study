{
 "cells": [
  {
   "cell_type": "markdown",
   "metadata": {},
   "source": [
    "# 信息熵"
   ]
  },
  {
   "cell_type": "markdown",
   "metadata": {},
   "source": [
    "- 是概率p的单调递减函数\n",
    "- 两个独立符号所产生的不确定性应等于各自不确定性之和，即f(p1,p2)=f(p1)+f(p2)\n",
    "- 信源的平均不确定性应当为单个符号不确定性-logpi的统计平均值（E）,称为信息熵\n",
    "![公式](./照片/p4.png)"
   ]
  },
  {
   "cell_type": "markdown",
   "metadata": {},
   "source": [
    "# 交叉熵"
   ]
  },
  {
   "cell_type": "markdown",
   "metadata": {},
   "source": [
    "- 表征两个变量概率分布P，Q（假设P表示真实分布，Q为模型预测的分布）的差异性。交叉熵越大，两个变量差异程度越大\n",
    "![公式](照片\\p5.png)"
   ]
  },
  {
   "cell_type": "markdown",
   "metadata": {},
   "source": [
    "# 相对熵"
   ]
  },
  {
   "cell_type": "markdown",
   "metadata": {},
   "source": [
    "- 是交叉熵与信息熵的差值。表示用分布Q模拟真实分布P，所需的额外信息\n",
    "![公式](照片\\p6.png)\n",
    "![例子](照片\\p1.png)"
   ]
  },
  {
   "cell_type": "markdown",
   "metadata": {
    "collapsed": false
   },
   "source": [
    "- 相对熵不具有对称性\n",
    "- 非负"
   ]
  },
  {
   "cell_type": "markdown",
   "metadata": {
    "collapsed": true
   },
   "source": [
    "# JS散度"
   ]
  },
  {
   "cell_type": "markdown",
   "metadata": {},
   "source": [
    "- 具有对称性\n",
    "![公式](照片\\p2.png)"
   ]
  },
  {
   "cell_type": "markdown",
   "metadata": {},
   "source": [
    "# 联合熵"
   ]
  },
  {
   "cell_type": "markdown",
   "metadata": {},
   "source": [
    "- 用H（x,y）表示\n",
    "- 两个随机变量X,Y的联合分布的熵，形成联合熵"
   ]
  },
  {
   "cell_type": "markdown",
   "metadata": {},
   "source": [
    "# 条件熵\n",
    "- H(x|y)表示在已知随机变量Y的条件下随机变量X的不确定性。\n",
    "![公式](照片\\p3.png)"
   ]
  },
  {
   "cell_type": "markdown",
   "metadata": {},
   "source": [
    "# 互信息\n",
    "- 可以被看成一个随机变量中包含的关于另一个随机变量的信息量，或者说是一个随机变量由于已知另一个随机变量而减少的不确定性\n",
    "![公式](照片\\p7.png)"
   ]
  },
  {
   "cell_type": "markdown",
   "metadata": {},
   "source": [
    "![公式](照片\\p8.png)"
   ]
  }
 ],
 "metadata": {
  "anaconda-cloud": {},
  "kernelspec": {
   "display_name": "Python [conda env:tensorflow]",
   "language": "python",
   "name": "conda-env-tensorflow-py"
  },
  "language_info": {
   "codemirror_mode": {
    "name": "ipython",
    "version": 3
   },
   "file_extension": ".py",
   "mimetype": "text/x-python",
   "name": "python",
   "nbconvert_exporter": "python",
   "pygments_lexer": "ipython3",
   "version": "3.7.3"
  }
 },
 "nbformat": 4,
 "nbformat_minor": 1
}
