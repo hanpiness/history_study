{
 "cells": [
  {
   "cell_type": "markdown",
   "metadata": {},
   "source": [
    "- IMDb数据集 ： 用于二分类的情感分析\n",
    "- 训练数据:25000个评论\n",
    "- （正面评论与负面评论各12500个）\n",
    "- 测试数据: 25000个评论\n",
    "- (正面评论与负面评论各12500个)"
   ]
  },
  {
   "cell_type": "code",
   "execution_count": 4,
   "metadata": {
    "collapsed": false
   },
   "outputs": [
    {
     "name": "stdout",
     "output_type": "stream",
     "text": [
      "<generator object Tokenizer.cut at 0x000001AB98475750>\n",
      "['我', '博士', '毕业', '于', '浙江大学', '计算机', '学院', '，', '现在', '浙江大学', '城市', '学院', '当', '老师', '。']\n"
     ]
    }
   ],
   "source": [
    "import jieba\n",
    "text = '我博士毕业于浙江大学计算机学院，现在浙江大学城市学院当老师。'\n",
    "word_list = jieba.cut(text)\n",
    "print(word_list)\n",
    "print(list(word_list))"
   ]
  },
  {
   "cell_type": "code",
   "execution_count": 8,
   "metadata": {
    "collapsed": false
   },
   "outputs": [
    {
     "name": "stdout",
     "output_type": "stream",
     "text": [
      "精确模式分词结果为：我/博士/毕业/于/浙江大学/计算机/学院/，/现在/浙江大学/城市/学院/当/老师/。\n"
     ]
    }
   ],
   "source": [
    "word_list = jieba.cut(text,cut_all=False)\n",
    "print(\"精确模式分词结果为：\" + \"/\".join(word_list))      # 精确模式"
   ]
  },
  {
   "cell_type": "code",
   "execution_count": 9,
   "metadata": {
    "collapsed": false
   },
   "outputs": [
    {
     "name": "stdout",
     "output_type": "stream",
     "text": [
      "全模式分词结果为：我/博士/毕业/于/浙江/浙江大学/大学/计算/计算机/算机/学院/，/现在/浙江/浙江大学/大学/大学城/城市/学院/当/老师/。\n"
     ]
    }
   ],
   "source": [
    "word_list = jieba.cut(text,cut_all=True)\n",
    "print(\"全模式分词结果为：\" + \"/\".join(word_list))      # 全模式"
   ]
  },
  {
   "cell_type": "code",
   "execution_count": 10,
   "metadata": {
    "collapsed": true
   },
   "outputs": [],
   "source": [
    "word_list = jieba.cut(text)\n",
    "# 缺省为全模式"
   ]
  },
  {
   "cell_type": "code",
   "execution_count": 11,
   "metadata": {
    "collapsed": false
   },
   "outputs": [
    {
     "name": "stdout",
     "output_type": "stream",
     "text": [
      "搜索引擎模式分词结果为：我/博士/毕业/于/浙江/大学/浙江大学/计算/算机/计算机/学院/，/现在/浙江/大学/浙江大学/城市/学院/当/老师/。\n"
     ]
    }
   ],
   "source": [
    "word_list = jieba.cut_for_search(text)    # 搜索引擎模式\n",
    "print(\"搜索引擎模式分词结果为：\" + \"/\" .join(word_list))"
   ]
  },
  {
   "cell_type": "code",
   "execution_count": 12,
   "metadata": {
    "collapsed": false
   },
   "outputs": [
    {
     "name": "stdout",
     "output_type": "stream",
     "text": [
      "['我', '博士', '毕业', '于', '浙江大学', '计算机', '学院', '，', '现在', '浙江大学', '城市', '学院', '当', '老师', '。']\n"
     ]
    }
   ],
   "source": [
    "word_list = jieba.lcut(text)\n",
    "print(word_list)"
   ]
  },
  {
   "cell_type": "code",
   "execution_count": 13,
   "metadata": {
    "collapsed": false
   },
   "outputs": [
    {
     "name": "stdout",
     "output_type": "stream",
     "text": [
      "['我', '博士', '毕业', '于', '浙江', '大学', '浙江大学', '计算', '算机', '计算机', '学院', '，', '现在', '浙江', '大学', '浙江大学', '城市', '学院', '当', '老师', '。']\n"
     ]
    }
   ],
   "source": [
    "word_list = jieba.lcut_for_search(text)\n",
    "print(word_list)"
   ]
  },
  {
   "cell_type": "code",
   "execution_count": 18,
   "metadata": {
    "collapsed": false
   },
   "outputs": [],
   "source": [
    "jieba.load_userdict(\"mydict.txt\")"
   ]
  },
  {
   "cell_type": "code",
   "execution_count": 20,
   "metadata": {
    "collapsed": false,
    "scrolled": true
   },
   "outputs": [
    {
     "name": "stdout",
     "output_type": "stream",
     "text": [
      "['我', '博士', '毕业', '于', '浙江大学', '计算机', '学院', '，', '现在', '浙江大学城市学院', '当', '老师', '。']\n"
     ]
    }
   ],
   "source": [
    "word_list = jieba.lcut(text)\n",
    "print(word_list)"
   ]
  },
  {
   "cell_type": "markdown",
   "metadata": {},
   "source": [
    "## 词的表示方法"
   ]
  },
  {
   "cell_type": "markdown",
   "metadata": {},
   "source": [
    "## 词嵌入"
   ]
  },
  {
   "cell_type": "markdown",
   "metadata": {},
   "source": [
    "- 将词汇嵌入到低维的连续向量空间中，即词被表示为实数域上的向量"
   ]
  },
  {
   "cell_type": "markdown",
   "metadata": {},
   "source": [
    "- 常见的词嵌入模型有word2vec,GloVe等\n",
    "- word2vec 通过对具有数十亿的新闻文章进行训练，可以从\n",
    "- http://word2vec.googlecode.com/svn/trunk/\n",
    "- GloVe\n",
    "- https://nlp.stanford.edu/projects/glove/\n",
    "- 训练中文文本,\n",
    "- https://github.com/Embedding/Chinese-Word-Vectors"
   ]
  }
 ],
 "metadata": {
  "anaconda-cloud": {},
  "kernelspec": {
   "display_name": "Python [conda env:tensorflow]",
   "language": "python",
   "name": "conda-env-tensorflow-py"
  },
  "language_info": {
   "codemirror_mode": {
    "name": "ipython",
    "version": 3
   },
   "file_extension": ".py",
   "mimetype": "text/x-python",
   "name": "python",
   "nbconvert_exporter": "python",
   "pygments_lexer": "ipython3",
   "version": "3.7.3"
  }
 },
 "nbformat": 4,
 "nbformat_minor": 1
}
