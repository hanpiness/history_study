{
 "cells": [
  {
   "cell_type": "code",
   "execution_count": 33,
   "metadata": {
    "collapsed": false
   },
   "outputs": [],
   "source": [
    "#在Jupyter中，使用matplotlib显示图像需要设置为inline模式，否则不会显示图像\n",
    "%matplotlib inline\n",
    "\n",
    "import matplotlib.pyplot as plt\n",
    "import tensorflow as tf\n",
    "import numpy as np"
   ]
  },
  {
   "cell_type": "markdown",
   "metadata": {},
   "source": [
    "## 首先，生成输入数据\n",
    "#### 我们需要构造满足这个函数的x和y同时加入一些不满足方程的噪声"
   ]
  },
  {
   "cell_type": "code",
   "execution_count": 34,
   "metadata": {
    "collapsed": true
   },
   "outputs": [],
   "source": [
    "# 设置随机数种子\n",
    "np.random.seed(5)\n",
    "\n",
    "# 直接采用np生成等差数列的方法，生成100个点，每个点的取值在-1~1之间\n",
    "\n",
    "x_data = np.linspace(-1,1,100)\n",
    "\n",
    "# y=2x+1 +噪声 其中噪声的维度与x_data一致\n",
    "\n",
    "y_data = 2 * x_data + 1.0 + np.random.randn(*x_data.shape) * 0.4"
   ]
  },
  {
   "cell_type": "markdown",
   "metadata": {},
   "source": [
    "##### numpy.random.randn(d0,d1,..,dn)是从标准正态分布中返回一个或多个样本值\n",
    "##### 标准正态分布又称u分布，是以0为均值，以1为标准差的正态分布，记为N(0,1)"
   ]
  },
  {
   "cell_type": "code",
   "execution_count": 35,
   "metadata": {
    "collapsed": false
   },
   "outputs": [
    {
     "data": {
      "text/plain": [
       "array([ 0.79242262,  0.17076445, -1.75374086,  0.63029648,  0.49832921,\n",
       "        1.01813761, -0.84646862,  2.52080763, -1.23238611,  0.72695326])"
      ]
     },
     "execution_count": 35,
     "metadata": {},
     "output_type": "execute_result"
    }
   ],
   "source": [
    "np.random.randn(10)"
   ]
  },
  {
   "cell_type": "code",
   "execution_count": 36,
   "metadata": {
    "collapsed": false
   },
   "outputs": [
    {
     "data": {
      "text/plain": [
       "(100,)"
      ]
     },
     "execution_count": 36,
     "metadata": {},
     "output_type": "execute_result"
    }
   ],
   "source": [
    "# x_data.shape值为一个元组\n",
    "\n",
    "x_data.shape"
   ]
  },
  {
   "cell_type": "markdown",
   "metadata": {},
   "source": [
    "#### 实参的前面加上*和**时，就意味着拆包，单个*表示将元组拆成一个个单独的实参"
   ]
  },
  {
   "cell_type": "code",
   "execution_count": 37,
   "metadata": {
    "collapsed": false
   },
   "outputs": [
    {
     "data": {
      "text/plain": [
       "array([ 0.04595522, -0.48713265,  0.81613236, -0.28143012, -2.33562182,\n",
       "       -1.16727845,  0.45765807,  2.23796561, -1.4812592 , -0.01694532,\n",
       "        1.45073354,  0.60687032, -0.37562084, -1.42192455, -1.7811513 ,\n",
       "       -0.74790579, -0.36840953, -2.24911813, -1.69367504,  0.30364847,\n",
       "       -0.40899234, -0.75483059, -0.40751917, -0.81262476,  0.92751621,\n",
       "        1.63995407,  2.07361553,  0.70979786,  0.74715259,  1.46309548,\n",
       "        1.73844881,  1.46520488,  1.21228341, -0.6346525 , -1.5996985 ,\n",
       "        0.87715281, -0.09383245, -0.05567103, -0.88942073, -1.30095145,\n",
       "        1.40216662,  0.46510099, -1.06503262,  0.39042061,  0.30560017,\n",
       "        0.52184949,  2.23327081, -0.0347021 , -1.27962318,  0.03654264,\n",
       "       -0.64635659,  0.54856784,  0.21054246,  0.34650175, -0.56705117,\n",
       "        0.41367881, -0.51025606,  0.51725935, -0.30100513, -1.11840643,\n",
       "        0.49852362, -0.70609387,  1.4438811 ,  0.44295626,  0.46770521,\n",
       "        0.10134479, -0.05935198, -2.38669774,  1.22217056, -0.81391201,\n",
       "        0.95626186, -0.63851056, -0.14312642, -0.22418983, -1.03849524,\n",
       "       -0.17170905,  0.47634618, -0.41417827, -1.26408334, -0.57321556,\n",
       "        0.24981732,  1.14720208,  0.83594396,  0.28740365, -0.9955963 ,\n",
       "        0.90688947,  0.02421074, -0.23998173,  0.91011056,  0.61784475,\n",
       "        0.49961804, -1.15154425, -0.6105164 , -1.70388541,  0.19443738,\n",
       "        0.02824125,  0.93256051,  0.21204332, -0.36794457,  2.1114884 ])"
      ]
     },
     "execution_count": 37,
     "metadata": {},
     "output_type": "execute_result"
    }
   ],
   "source": [
    "np.random.randn(*x_data.shape)"
   ]
  },
  {
   "cell_type": "code",
   "execution_count": 38,
   "metadata": {
    "collapsed": false
   },
   "outputs": [
    {
     "data": {
      "text/plain": [
       "array([-1.02957349, -1.33628031, -0.61056736,  0.52469426, -0.34930813,\n",
       "       -0.44073846, -1.1212876 ,  1.47284473, -0.62337224, -1.08070195,\n",
       "       -0.12253009, -0.8077431 , -0.23255622,  1.33515034, -0.44645673,\n",
       "       -0.04978868, -0.36854478, -0.19173957,  0.81967992,  0.53163372,\n",
       "       -0.34161504, -0.93090048, -0.13421699,  0.83259361, -0.01735327,\n",
       "       -0.12765822, -1.80791662,  0.99396898, -1.49112886, -1.28210748,\n",
       "       -0.37570741,  0.03464388,  0.04507816, -0.76374689, -0.31313851,\n",
       "       -0.60698954, -1.80955123, -0.25551774, -0.69379935,  0.41919776,\n",
       "       -0.14520019,  0.9638013 ,  0.69622199,  0.89940546,  1.20837807,\n",
       "        0.6932537 , -0.16636061,  1.35311311, -0.92862651, -0.03547249,\n",
       "        0.85964595, -0.28749661,  0.71494995, -0.8034526 , -0.54048196,\n",
       "        0.54617743,  0.71188926,  1.19715449, -0.07006703,  0.29822712,\n",
       "        0.62619261,  0.46743206, -1.30262143, -0.57008965,  1.44295001,\n",
       "       -1.24399513,  0.62888033, -0.42559213,  1.00320956, -0.77817761,\n",
       "        0.04894463, -2.02640189, -0.04193635,  1.07454278, -1.5008594 ,\n",
       "        1.18574443, -0.71508124, -0.05123853, -2.77458336,  1.07862813,\n",
       "       -0.87568592, -0.53810932, -1.2782157 , -0.99276945,  1.14342789,\n",
       "       -0.5090726 ,  0.89500094, -0.17620337,  0.34608347, -0.50631013,\n",
       "        0.42716402,  2.58856959,  0.65289301,  0.50583979, -0.47595083,\n",
       "        1.01090874,  1.35920097, -1.70208997, -1.38033223,  2.10177668])"
      ]
     },
     "execution_count": 38,
     "metadata": {},
     "output_type": "execute_result"
    }
   ],
   "source": [
    "# 本例中 np.random.randn(*x_data.shape)和np.random.randn(100)功能相同\n",
    "np.random.randn(100)"
   ]
  },
  {
   "cell_type": "markdown",
   "metadata": {},
   "source": [
    "### 利用matplotlib绘图"
   ]
  },
  {
   "cell_type": "code",
   "execution_count": 39,
   "metadata": {
    "collapsed": false
   },
   "outputs": [
    {
     "data": {
      "text/plain": [
       "[<matplotlib.lines.Line2D at 0x151d93e85c0>]"
      ]
     },
     "execution_count": 39,
     "metadata": {},
     "output_type": "execute_result"
    },
    {
     "data": {
      "image/png": "[encoded data removed]",
      "text/plain": [
       "<Figure size 432x288 with 1 Axes>"
      ]
     },
     "metadata": {
      "needs_background": "light"
     },
     "output_type": "display_data"
    }
   ],
   "source": [
    "#画出随机生成的散点图\n",
    "\n",
    "plt.scatter(x_data,y_data)\n",
    "plt.xlabel(\"x\")\n",
    "plt.ylabel(\"y\")\n",
    "plt.title(\"Figure :Training Data\")\n",
    "\n",
    "# 画出我们想要通过学习得到的目标线性函数\n",
    "plt.plot(x_data,2*x_data+1.0,color='red',linewidth=3)"
   ]
  },
  {
   "cell_type": "markdown",
   "metadata": {},
   "source": [
    "## 构建模型"
   ]
  },
  {
   "cell_type": "markdown",
   "metadata": {},
   "source": [
    "#### 构建回归模型"
   ]
  },
  {
   "cell_type": "code",
   "execution_count": 40,
   "metadata": {
    "collapsed": false
   },
   "outputs": [],
   "source": [
    "def model(x,w,b):\n",
    "    return tf.multiply(x,w) + b"
   ]
  },
  {
   "cell_type": "markdown",
   "metadata": {},
   "source": [
    "#### 创建待优化变量\n",
    "##### tensorflow变量的声明函数是tf.Variable"
   ]
  },
  {
   "cell_type": "code",
   "execution_count": 41,
   "metadata": {
    "collapsed": false
   },
   "outputs": [],
   "source": [
    "# 构建线性函数的斜率，变量w\n",
    "w = tf.Variable(1.0,tf.float32)\n",
    "\n",
    "# 构建线性函数的截距，变量b\n",
    "b = tf.Variable(0.0,tf.float32)"
   ]
  },
  {
   "cell_type": "markdown",
   "metadata": {},
   "source": [
    "## 定义损失函数\n",
    "#### 损失函数用于描述预测值与真实值之间的误差，从而指导模型收敛方向\n",
    "#### 常见损失函数：均方差（Mean Square Error,MSE）和交叉熵（cross-entropy）"
   ]
  },
  {
   "cell_type": "code",
   "execution_count": 42,
   "metadata": {
    "collapsed": false
   },
   "outputs": [],
   "source": [
    "# 采用均方差作为损失函数\n",
    "\n",
    "def loss(x,y,w,b):\n",
    "    err = model(x,w,b) - y   #计算模型预测值和标签值的差异\n",
    "    squared_err = tf.square(err)  #求平方，得出方差\n",
    "    return tf.reduce_mean(squared_err)  #求均值,得出均方差"
   ]
  },
  {
   "cell_type": "markdown",
   "metadata": {},
   "source": [
    "## 训练模型\n",
    "### 设置训练超参数"
   ]
  },
  {
   "cell_type": "code",
   "execution_count": 43,
   "metadata": {
    "collapsed": true
   },
   "outputs": [],
   "source": [
    "training_epochs = 10  # 迭代次数(训练轮数)\n",
    "learning_rate = 0.01  # 学习率"
   ]
  },
  {
   "cell_type": "markdown",
   "metadata": {},
   "source": [
    "### 定义计算梯度函数"
   ]
  },
  {
   "cell_type": "code",
   "execution_count": 44,
   "metadata": {
    "collapsed": false
   },
   "outputs": [],
   "source": [
    "# 计算样本数据[x,y]在参数[w,b]点上的梯度\n",
    "def grad(x,y,w,b):\n",
    "    with tf.GradientTape() as tape:\n",
    "        loss_ = loss(x,y,w,b)\n",
    "    return tape.gradient(loss_,[w,b])   # 返回梯度向量"
   ]
  },
  {
   "cell_type": "markdown",
   "metadata": {},
   "source": [
    "#### 在TensorFlow 2 中。使用tf.GradientTape()这一上下文管理器封装需要求导的计算步骤"
   ]
  },
  {
   "cell_type": "markdown",
   "metadata": {},
   "source": [
    "## 执行训练(SGD)"
   ]
  },
  {
   "cell_type": "code",
   "execution_count": 1,
   "metadata": {
    "collapsed": false,
    "scrolled": true
   },
   "outputs": [
    {
     "ename": "NameError",
     "evalue": "name 'training_epochs' is not defined",
     "output_type": "error",
     "traceback": [
      "\u001b[1;31m---------------------------------------------------------------------------\u001b[0m",
      "\u001b[1;31mNameError\u001b[0m                                 Traceback (most recent call last)",
      "\u001b[1;32m<ipython-input-1-fd5fef3bcdcd>\u001b[0m in \u001b[0;36m<module>\u001b[1;34m\u001b[0m\n\u001b[0;32m      3\u001b[0m \u001b[0mdisplay_step\u001b[0m \u001b[1;33m=\u001b[0m \u001b[1;36m10\u001b[0m \u001b[1;31m# 控制训练过程数据显示的频率，不是超参数\u001b[0m\u001b[1;33m\u001b[0m\u001b[1;33m\u001b[0m\u001b[0m\n\u001b[0;32m      4\u001b[0m \u001b[1;33m\u001b[0m\u001b[0m\n\u001b[1;32m----> 5\u001b[1;33m \u001b[1;32mfor\u001b[0m \u001b[0mepoch\u001b[0m \u001b[1;32min\u001b[0m \u001b[0mrange\u001b[0m\u001b[1;33m(\u001b[0m\u001b[0mtraining_epochs\u001b[0m\u001b[1;33m)\u001b[0m\u001b[1;33m:\u001b[0m\u001b[1;33m\u001b[0m\u001b[1;33m\u001b[0m\u001b[0m\n\u001b[0m\u001b[0;32m      6\u001b[0m     \u001b[1;32mfor\u001b[0m \u001b[0mxs\u001b[0m\u001b[1;33m,\u001b[0m\u001b[0mys\u001b[0m \u001b[1;32min\u001b[0m \u001b[0mzip\u001b[0m\u001b[1;33m(\u001b[0m\u001b[0mx_data\u001b[0m\u001b[1;33m,\u001b[0m\u001b[0my_data\u001b[0m\u001b[1;33m)\u001b[0m\u001b[1;33m:\u001b[0m\u001b[1;33m\u001b[0m\u001b[1;33m\u001b[0m\u001b[0m\n\u001b[0;32m      7\u001b[0m \u001b[1;33m\u001b[0m\u001b[0m\n",
      "\u001b[1;31mNameError\u001b[0m: name 'training_epochs' is not defined"
     ]
    }
   ],
   "source": [
    "step = 0  #记录训练的步数\n",
    "loss_list = []  #用于保存loss值的列表\n",
    "display_step = 10 # 控制训练过程数据显示的频率，不是超参数\n",
    "\n",
    "for epoch in range(training_epochs):\n",
    "    for xs,ys in zip(x_data,y_data):\n",
    "        \n",
    "        loss_ = loss(xs,ys,w, b)   #计算损失\n",
    "        loss_list.append(loss_)    #保存本次损失计算结果\n",
    "        \n",
    "        delta_w,delta_b = grad(xs,ys,w,b)   #计算当前[w,b]点的梯度\n",
    "        change_w = delta_w * learning_rate  #计算变量w需要改变的量\n",
    "        change_b = delta_b * learning_rate  #计算变量b需要改变的量\n",
    "        w.assign_sub(change_w)              #变量w值变更为减去change_w后的值\n",
    "        b.assign_sub(change_b)              #变量b值变更为减去change_w后的值\n",
    "        \n",
    "        step = step+1                       #训练步数加一\n",
    "        if step % display_step==0:          #显示训练过程\n",
    "            print(\"Training Epoch:\",'%02d'%(epoch+1),\"Step: %03d\"%(step))\n",
    "    plt.plot(x_data,w.numpy() * x_data + b.numpy())    # 完成一轮训练后，画出图像"
   ]
  },
  {
   "cell_type": "markdown",
   "metadata": {},
   "source": [
    "#### 显示训练结果"
   ]
  },
  {
   "cell_type": "code",
   "execution_count": 46,
   "metadata": {
    "collapsed": true
   },
   "outputs": [
    {
     "name": "stdout",
     "output_type": "stream",
     "text": [
      "w: 1.9908317\n",
      "b: 1.0366321\n"
     ]
    }
   ],
   "source": [
    "print(\"w:\",w.numpy())\n",
    "print(\"b:\",b.numpy())"
   ]
  },
  {
   "cell_type": "markdown",
   "metadata": {},
   "source": [
    "### 结果可视化"
   ]
  },
  {
   "cell_type": "code",
   "execution_count": 47,
   "metadata": {
    "collapsed": false
   },
   "outputs": [
    {
     "data": {
      "text/plain": [
       "<matplotlib.legend.Legend at 0x151cfbcd9b0>"
      ]
     },
     "execution_count": 47,
     "metadata": {},
     "output_type": "execute_result"
    },
    {
     "data": {
      "image/png": "[encoded data removed]",
      "text/plain": [
       "<Figure size 432x288 with 1 Axes>"
      ]
     },
     "metadata": {
      "needs_background": "light"
     },
     "output_type": "display_data"
    }
   ],
   "source": [
    "plt.scatter(x_data,y_data,label='Original data')\n",
    "plt.plot(x_data,x_data * 2.0+1.0,label='Object line',color='g',linewidth=3)\n",
    "plt.plot(x_data,x_data * w.numpy()+b.numpy(),label='Fitted line',color='r',linewidth=3)\n",
    "plt.legend(loc=2)             #通过参数loc指定图例位置"
   ]
  },
  {
   "cell_type": "markdown",
   "metadata": {},
   "source": [
    "### 进行预测"
   ]
  },
  {
   "cell_type": "code",
   "execution_count": 48,
   "metadata": {
    "collapsed": false,
    "scrolled": false
   },
   "outputs": [
    {
     "name": "stdout",
     "output_type": "stream",
     "text": [
      "预测值:7.427202\n",
      "目标值：7.420000\n"
     ]
    }
   ],
   "source": [
    "x_test = 3.21\n",
    "\n",
    "predict = model(x_test,w.numpy(),b.numpy())\n",
    "print(\"预测值:%f\"%predict)\n",
    "\n",
    "target = 2*x_test +1.0\n",
    "print(\"目标值：%f\"%target)"
   ]
  },
  {
   "cell_type": "markdown",
   "metadata": {},
   "source": [
    "### 损失变化情况"
   ]
  },
  {
   "cell_type": "code",
   "execution_count": 49,
   "metadata": {
    "collapsed": false
   },
   "outputs": [
    {
     "data": {
      "text/plain": [
       "[<matplotlib.lines.Line2D at 0x151cf0d9cf8>]"
      ]
     },
     "execution_count": 49,
     "metadata": {},
     "output_type": "execute_result"
    },
    {
     "data": {
      "image/png": "[encoded data removed]",
      "text/plain": [
       "<Figure size 432x288 with 1 Axes>"
      ]
     },
     "metadata": {
      "needs_background": "light"
     },
     "output_type": "display_data"
    }
   ],
   "source": [
    "plt.plot(loss_list)"
   ]
  }
 ],
 "metadata": {
  "anaconda-cloud": {},
  "kernelspec": {
   "display_name": "env-tensorflow",
   "language": "python",
   "name": "tensorflow"
  },
  "language_info": {
   "codemirror_mode": {
    "name": "ipython",
    "version": 3
   },
   "file_extension": ".py",
   "mimetype": "text/x-python",
   "name": "python",
   "nbconvert_exporter": "python",
   "pygments_lexer": "ipython3",
   "version": "3.7.3"
  }
 },
 "nbformat": 4,
 "nbformat_minor": 1
}
